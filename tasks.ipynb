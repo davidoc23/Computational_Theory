{
 "cells": [
  {
   "cell_type": "markdown",
   "metadata": {},
   "source": [
    "# Tasks"
   ]
  },
  {
   "cell_type": "markdown",
   "metadata": {},
   "source": [
    "## Task 1: Binary Representations\n",
    "\n",
    "Create the following functions in Python, demonstrating their use with examples and tests.\n",
    "\n",
    "The function rotl(x, n=1) that rotates the bits in a 32-bit unsigned integer to the left n places.\n",
    "\n",
    "The function rotr(x, n=1) that rotates the bits in a 32-bit unsigned integer to the right n places.\n",
    "\n",
    "The function ch(x, y, z) that chooses the bits from y where x has bits set to 1 and bits in z where x has bits set to 0.\n",
    "\n",
    "The function maj(x, y, z) which takes a majority vote of the bits in x, y, and z.\n",
    "The output should have a 1 in bit position i where at least two of x, y, and z have 1's in position i.\n",
    "All other output bit positions should be 0."
   ]
  },
  {
   "cell_type": "code",
   "execution_count": null,
   "metadata": {},
   "outputs": [],
   "source": []
  },
  {
   "cell_type": "markdown",
   "metadata": {},
   "source": [
    "## Task 2: Hash Functions\n",
    "\n",
    "The following hash function is from The C Programming Language by Brian Kernighan and Dennis Ritchie.\n",
    "Convert it to Python, test it, and suggest why the values 31 and 101 are used.\n",
    "\n",
    "    unsigned hash(char *s) {\n",
    "        unsigned hashval;\n",
    "        for (hashval = 0; *s != '\\0'; s++)\n",
    "            hashval = *s + 31 * hashval;\n",
    "        return hashval % 101;\n",
    "    }"
   ]
  },
  {
   "cell_type": "code",
   "execution_count": null,
   "metadata": {},
   "outputs": [],
   "source": []
  },
  {
   "cell_type": "markdown",
   "metadata": {},
   "source": [
    "## Task 3: SHA256\n",
    "\n",
    "Write a Python function that calculates the SHA256 padding for a given file.\n",
    "The function should take a file path as input.\n",
    "It should print, in hex, the padding that would be applied to it.\n",
    "The specification states that the following should be appended to a message:\n",
    "\n",
    "- A1 bit;\n",
    "- Enough 0 bits so the length in bits of padded message is the smallest possible multiple of 512;\n",
    "- The length in bits of the original input as a big-endian 64-bit unsigned integer.\n",
    "\n",
    "The example in the specification is a file containing the three bytes abc:\n",
    "\n",
    "    01100001 01100010 01100011\n",
    "\n",
    "The output would be:\n",
    "\n",
    "    80 00 00 00 00 00 00 00 00 00 00 00 00 00 00 00 00 00 00 00 00 00 00 00 00 00\n",
    "    00 00 00 00 00 00 00 00 00 00 00 00 00 00 00 00 00 00 00 00 00 00 00 00 00 00\n",
    "    00 00 00 00 00 00 00 00 18"
   ]
  },
  {
   "cell_type": "code",
   "execution_count": null,
   "metadata": {},
   "outputs": [],
   "source": []
  },
  {
   "cell_type": "markdown",
   "metadata": {},
   "source": [
    "## Task 4: Prime Numbers\n",
    "\n",
    "Calculate the first 1,00 prime numbers using two different algorithms.\n",
    "Any algorithms that are well-established and works correctly are okay to use.\n",
    "Explain how the algorithms work."
   ]
  },
  {
   "cell_type": "code",
   "execution_count": null,
   "metadata": {},
   "outputs": [],
   "source": []
  },
  {
   "cell_type": "markdown",
   "metadata": {},
   "source": [
    "## Task 5: Roots\n",
    "\n",
    "Calculate the first 32 bits of the fractional part of the square roots or the first 100 prime numbers."
   ]
  },
  {
   "cell_type": "code",
   "execution_count": null,
   "metadata": {},
   "outputs": [],
   "source": []
  },
  {
   "cell_type": "markdown",
   "metadata": {},
   "source": [
    "## Task 6: Proof of Work\n",
    "\n",
    "Find the word(s) in the English language with the greatest number of 0 bits at the beginning of their SHA256 hash digest.\n",
    "Include proof that any word you list is in at least one English dictionary."
   ]
  },
  {
   "cell_type": "code",
   "execution_count": null,
   "metadata": {},
   "outputs": [],
   "source": []
  },
  {
   "cell_type": "markdown",
   "metadata": {},
   "source": [
    "## Task 7: Turing Machines\n",
    "\n",
    "Design a Turing Machine that adds 1 to a binary number on its tape.\n",
    "\n",
    "The machine should start at the left-most non-blank symbol.\n",
    "\n",
    "It should treat the right-most symbol as the least significant bit.\n",
    "\n",
    "\n",
    "For example, suppose the following is on the tape at the start:\n",
    "\n",
    "    100111\n",
    "\n",
    "Your Turing machine should leave the following on the tape when it completes:\n",
    "\n",
    "    101000"
   ]
  },
  {
   "cell_type": "code",
   "execution_count": null,
   "metadata": {},
   "outputs": [],
   "source": []
  },
  {
   "cell_type": "markdown",
   "metadata": {},
   "source": [
    "## Task 8: Computational Complexity\n",
    "\n",
    "Implement bubble sort in Python, modifying it to count the number of comparisons made during sorting.\n",
    "Use this function to sort all permutations of the list:\n",
    "\n",
    "    L = [1, 2, 3, 4, 5]\n",
    "\n",
    "For each permutation, print the permutation itself followed by the number of comparisons required to sort it."
   ]
  },
  {
   "cell_type": "code",
   "execution_count": null,
   "metadata": {},
   "outputs": [],
   "source": []
  }
 ],
 "metadata": {
  "kernelspec": {
   "display_name": "Python 3",
   "language": "python",
   "name": "python3"
  },
  "language_info": {
   "name": "python",
   "version": "3.12.1"
  }
 },
 "nbformat": 4,
 "nbformat_minor": 2
}
